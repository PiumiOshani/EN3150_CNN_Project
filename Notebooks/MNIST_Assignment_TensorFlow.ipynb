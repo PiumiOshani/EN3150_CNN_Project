{
  "cells": [
    {
      "cell_type": "markdown",
      "metadata": {},
      "source": [
        "# EN3150 — Assignment (TensorFlow/Keras, MNIST)\n",
        "\n",
        "**Two Conv Blocks (Conv → ReLU → MaxPool) → Dense**  \n",
        "This notebook follows the brief using **MNIST** and **TensorFlow/Keras**, reproducing your CNN, comparing optimizers, and fine‑tuning two ImageNet‑pretrained models (**ResNet50** and **VGG16**). It also includes training‑time/parameter comparisons and a written report section.\n"
      ]
    },
    {
      "cell_type": "markdown",
      "metadata": {},
      "source": [
        "## Executive Summary (What this notebook does)\n",
        "- **Dataset**: MNIST (10 classes, 28×28 grayscale), split **70/15/15** with a fixed seed.\n",
        "- **Baseline CNN**: `[Conv-ReLU-MaxPool] × 2 → Flatten → Dense(128) → Dropout(0.3) → Dense(10)`.\n",
        "- **Optimizers**: SGD, SGD+Momentum(0.9), Adam — 20 epochs; curves + metrics.\n",
        "- **Metrics**: Accuracy, confusion matrix, precision/recall/F1 (macro & micro).\n",
        "- **Transfer Learning**: Fine-tune **ResNet50** and **VGG16** (ImageNet) with proper preprocessing (resize to 224×224, 3‑channel, application‑specific normalization).\n",
        "- **Comparison**: Training time and parameter counts included; pros/cons discussed.\n"
      ]
    },
    {
      "cell_type": "code",
      "execution_count": 1,
      "metadata": {},
      "outputs": [
        {
          "name": "stdout",
          "output_type": "stream",
          "text": [
            "TensorFlow: 2.20.0\n",
            "Device: CPU\n"
          ]
        }
      ],
      "source": [
        "\n",
        "# SECTION 0 — Setup & Imports\n",
        "import os, time, random\n",
        "import numpy as np\n",
        "import matplotlib.pyplot as plt\n",
        "from sklearn.metrics import confusion_matrix, precision_recall_fscore_support, classification_report\n",
        "\n",
        "import tensorflow as tf\n",
        "from tensorflow.keras import layers, models, optimizers\n",
        "from tensorflow.keras.datasets import mnist\n",
        "from tensorflow.keras.utils import to_categorical\n",
        "\n",
        "# For transfer learning\n",
        "from tensorflow.keras.applications import ResNet50, VGG16\n",
        "from tensorflow.keras.applications.resnet50 import preprocess_input as resnet_preprocess\n",
        "from tensorflow.keras.applications.vgg16 import preprocess_input as vgg_preprocess\n",
        "\n",
        "print('TensorFlow:', tf.__version__)\n",
        "\n",
        "# Reproducibility\n",
        "SEED = 42\n",
        "tf.random.set_seed(SEED)\n",
        "np.random.seed(SEED)\n",
        "random.seed(SEED)\n",
        "\n",
        "DEVICE = 'GPU' if tf.config.list_physical_devices('GPU') else 'CPU'\n",
        "print('Device:', DEVICE)\n"
      ]
    },
    {
      "cell_type": "code",
      "execution_count": 2,
      "metadata": {},
      "outputs": [
        {
          "name": "stdout",
          "output_type": "stream",
          "text": [
            "Shapes (baseline CNN): (49000, 28, 28, 1) (10500, 28, 28, 1) (10500, 28, 28, 1)\n"
          ]
        }
      ],
      "source": [
        "\n",
        "# SECTION 1 — Hyperparameters & 70/15/15 Split\n",
        "\n",
        "# Baseline CNN hyperparams (mirroring your TensorFlow model structure)\n",
        "F1, F2        = 16, 32\n",
        "KERNEL_SIZE   = 3\n",
        "POOL_SIZE     = 2\n",
        "DENSE_UNITS   = 128\n",
        "DROPOUT_DENSE = 0.3\n",
        "\n",
        "BATCH_SIZE    = 128\n",
        "EPOCHS        = 20\n",
        "\n",
        "# Optimizer configs to compare\n",
        "OPT_CONFIGS = {\n",
        "    'sgd':  {'name':'SGD',  'opt': lambda: optimizers.SGD(learning_rate=0.1)},\n",
        "    'sgdm': {'name':'SGD+Momentum', 'opt': lambda: optimizers.SGD(learning_rate=0.05, momentum=0.9)},\n",
        "    'adam': {'name':'Adam', 'opt': lambda: optimizers.Adam(learning_rate=1e-3)},\n",
        "}\n",
        "\n",
        "# Load MNIST\n",
        "(X_train, y_train), (X_test, y_test) = mnist.load_data()\n",
        "\n",
        "# Combine and split 70/15/15\n",
        "X_full = np.concatenate([X_train, X_test], axis=0)\n",
        "y_full = np.concatenate([y_train, y_test], axis=0)\n",
        "\n",
        "N = len(X_full)\n",
        "n_train = int(0.70 * N)\n",
        "n_val   = int(0.15 * N)\n",
        "n_test  = N - n_train - n_val\n",
        "\n",
        "idx = np.arange(N)\n",
        "rng = np.random.default_rng(SEED)\n",
        "rng.shuffle(idx)\n",
        "\n",
        "train_idx = idx[:n_train]\n",
        "val_idx   = idx[n_train:n_train+n_val]\n",
        "test_idx  = idx[n_train+n_val:]\n",
        "\n",
        "X_tr, y_tr = X_full[train_idx], y_full[train_idx]\n",
        "X_va, y_va = X_full[val_idx],  y_full[val_idx]\n",
        "X_te, y_te = X_full[test_idx], y_full[test_idx]\n",
        "\n",
        "# Normalize to [0,1] and add channel dimension for baseline CNN\n",
        "X_tr_cnn = (X_tr.astype('float32')/255.)[..., np.newaxis]\n",
        "X_va_cnn = (X_va.astype('float32')/255.)[..., np.newaxis]\n",
        "X_te_cnn = (X_te.astype('float32')/255.)[..., np.newaxis]\n",
        "\n",
        "print('Shapes (baseline CNN):', X_tr_cnn.shape, X_va_cnn.shape, X_te_cnn.shape)\n",
        "\n",
        "# One-hot labels if needed (we'll use sparse labels for Keras losses; no need to one-hot)\n",
        "y_tr_sp, y_va_sp, y_te_sp = y_tr.astype('int32'), y_va.astype('int32'), y_te.astype('int32')\n"
      ]
    },
    {
      "cell_type": "code",
      "execution_count": 3,
      "metadata": {},
      "outputs": [
        {
          "data": {
            "image/png": "[encoded data removed]",
            "text/plain": [
              "<Figure size 640x480 with 1 Axes>"
            ]
          },
          "metadata": {},
          "output_type": "display_data"
        },
        {
          "data": {
            "image/png": "[encoded data removed]",
            "text/plain": [
              "<Figure size 1000x500 with 10 Axes>"
            ]
          },
          "metadata": {},
          "output_type": "display_data"
        }
      ],
      "source": [
        "\n",
        "# SECTION 2 — Visualization & Distribution\n",
        "\n",
        "# Class distribution\n",
        "counts = np.bincount(y_full, minlength=10)\n",
        "plt.figure()\n",
        "plt.bar(range(10), counts)  # default colors\n",
        "plt.xlabel('Digit Class'); plt.ylabel('Samples'); plt.title('MNIST Class Distribution (Full)')\n",
        "plt.tight_layout(); plt.show()\n",
        "\n",
        "# Show one sample per class (from training set)\n",
        "fig, axes = plt.subplots(2, 5, figsize=(10, 5))\n",
        "axes = axes.ravel()\n",
        "seen = set()\n",
        "for i, (img, lab) in enumerate(zip(X_tr, y_tr)):\n",
        "    if lab not in seen:\n",
        "        axes[lab].imshow(img, cmap='gray')\n",
        "        axes[lab].set_title(str(lab)); axes[lab].axis('off')\n",
        "        seen.add(lab)\n",
        "    if len(seen) == 10:\n",
        "        break\n",
        "plt.suptitle('One Example per Digit (Train Split)')\n",
        "plt.tight_layout(); plt.show()\n"
      ]
    },
    {
      "cell_type": "code",
      "execution_count": 4,
      "metadata": {},
      "outputs": [
        {
          "data": {
            "text/html": [
              "<pre style=\"white-space:pre;overflow-x:auto;line-height:normal;font-family:Menlo,'DejaVu Sans Mono',consolas,'Courier New',monospace\"><span style=\"font-weight: bold\">Model: \"sequential\"</span>\n",
              "</pre>\n"
            ],
            "text/plain": [
              "\u001b[1mModel: \"sequential\"\u001b[0m\n"
            ]
          },
          "metadata": {},
          "output_type": "display_data"
        },
        {
          "data": {
            "text/html": [
              "<pre style=\"white-space:pre;overflow-x:auto;line-height:normal;font-family:Menlo,'DejaVu Sans Mono',consolas,'Courier New',monospace\">┏━━━━━━━━━━━━━━━━━━━━━━━━━━━━━━━━━┳━━━━━━━━━━━━━━━━━━━━━━━━┳━━━━━━━━━━━━━━━┓\n",
              "┃<span style=\"font-weight: bold\"> Layer (type)                    </span>┃<span style=\"font-weight: bold\"> Output Shape           </span>┃<span style=\"font-weight: bold\">       Param # </span>┃\n",
              "┡━━━━━━━━━━━━━━━━━━━━━━━━━━━━━━━━━╇━━━━━━━━━━━━━━━━━━━━━━━━╇━━━━━━━━━━━━━━━┩\n",
              "│ conv2d (<span style=\"color: #0087ff; text-decoration-color: #0087ff\">Conv2D</span>)                 │ (<span style=\"color: #00d7ff; text-decoration-color: #00d7ff\">None</span>, <span style=\"color: #00af00; text-decoration-color: #00af00\">28</span>, <span style=\"color: #00af00; text-decoration-color: #00af00\">28</span>, <span style=\"color: #00af00; text-decoration-color: #00af00\">16</span>)     │           <span style=\"color: #00af00; text-decoration-color: #00af00\">160</span> │\n",
              "├─────────────────────────────────┼────────────────────────┼───────────────┤\n",
              "│ max_pooling2d (<span style=\"color: #0087ff; text-decoration-color: #0087ff\">MaxPooling2D</span>)    │ (<span style=\"color: #00d7ff; text-decoration-color: #00d7ff\">None</span>, <span style=\"color: #00af00; text-decoration-color: #00af00\">14</span>, <span style=\"color: #00af00; text-decoration-color: #00af00\">14</span>, <span style=\"color: #00af00; text-decoration-color: #00af00\">16</span>)     │             <span style=\"color: #00af00; text-decoration-color: #00af00\">0</span> │\n",
              "├─────────────────────────────────┼────────────────────────┼───────────────┤\n",
              "│ conv2d_1 (<span style=\"color: #0087ff; text-decoration-color: #0087ff\">Conv2D</span>)               │ (<span style=\"color: #00d7ff; text-decoration-color: #00d7ff\">None</span>, <span style=\"color: #00af00; text-decoration-color: #00af00\">14</span>, <span style=\"color: #00af00; text-decoration-color: #00af00\">14</span>, <span style=\"color: #00af00; text-decoration-color: #00af00\">32</span>)     │         <span style=\"color: #00af00; text-decoration-color: #00af00\">4,640</span> │\n",
              "├─────────────────────────────────┼────────────────────────┼───────────────┤\n",
              "│ max_pooling2d_1 (<span style=\"color: #0087ff; text-decoration-color: #0087ff\">MaxPooling2D</span>)  │ (<span style=\"color: #00d7ff; text-decoration-color: #00d7ff\">None</span>, <span style=\"color: #00af00; text-decoration-color: #00af00\">7</span>, <span style=\"color: #00af00; text-decoration-color: #00af00\">7</span>, <span style=\"color: #00af00; text-decoration-color: #00af00\">32</span>)       │             <span style=\"color: #00af00; text-decoration-color: #00af00\">0</span> │\n",
              "├─────────────────────────────────┼────────────────────────┼───────────────┤\n",
              "│ flatten (<span style=\"color: #0087ff; text-decoration-color: #0087ff\">Flatten</span>)               │ (<span style=\"color: #00d7ff; text-decoration-color: #00d7ff\">None</span>, <span style=\"color: #00af00; text-decoration-color: #00af00\">1568</span>)           │             <span style=\"color: #00af00; text-decoration-color: #00af00\">0</span> │\n",
              "├─────────────────────────────────┼────────────────────────┼───────────────┤\n",
              "│ dense (<span style=\"color: #0087ff; text-decoration-color: #0087ff\">Dense</span>)                   │ (<span style=\"color: #00d7ff; text-decoration-color: #00d7ff\">None</span>, <span style=\"color: #00af00; text-decoration-color: #00af00\">128</span>)            │       <span style=\"color: #00af00; text-decoration-color: #00af00\">200,832</span> │\n",
              "├─────────────────────────────────┼────────────────────────┼───────────────┤\n",
              "│ dropout (<span style=\"color: #0087ff; text-decoration-color: #0087ff\">Dropout</span>)               │ (<span style=\"color: #00d7ff; text-decoration-color: #00d7ff\">None</span>, <span style=\"color: #00af00; text-decoration-color: #00af00\">128</span>)            │             <span style=\"color: #00af00; text-decoration-color: #00af00\">0</span> │\n",
              "├─────────────────────────────────┼────────────────────────┼───────────────┤\n",
              "│ dense_1 (<span style=\"color: #0087ff; text-decoration-color: #0087ff\">Dense</span>)                 │ (<span style=\"color: #00d7ff; text-decoration-color: #00d7ff\">None</span>, <span style=\"color: #00af00; text-decoration-color: #00af00\">10</span>)             │         <span style=\"color: #00af00; text-decoration-color: #00af00\">1,290</span> │\n",
              "└─────────────────────────────────┴────────────────────────┴───────────────┘\n",
              "</pre>\n"
            ],
            "text/plain": [
              "┏━━━━━━━━━━━━━━━━━━━━━━━━━━━━━━━━━┳━━━━━━━━━━━━━━━━━━━━━━━━┳━━━━━━━━━━━━━━━┓\n",
              "┃\u001b[1m \u001b[0m\u001b[1mLayer (type)                   \u001b[0m\u001b[1m \u001b[0m┃\u001b[1m \u001b[0m\u001b[1mOutput Shape          \u001b[0m\u001b[1m \u001b[0m┃\u001b[1m \u001b[0m\u001b[1m      Param #\u001b[0m\u001b[1m \u001b[0m┃\n",
              "┡━━━━━━━━━━━━━━━━━━━━━━━━━━━━━━━━━╇━━━━━━━━━━━━━━━━━━━━━━━━╇━━━━━━━━━━━━━━━┩\n",
              "│ conv2d (\u001b[38;5;33mConv2D\u001b[0m)                 │ (\u001b[38;5;45mNone\u001b[0m, \u001b[38;5;34m28\u001b[0m, \u001b[38;5;34m28\u001b[0m, \u001b[38;5;34m16\u001b[0m)     │           \u001b[38;5;34m160\u001b[0m │\n",
              "├─────────────────────────────────┼────────────────────────┼───────────────┤\n",
              "│ max_pooling2d (\u001b[38;5;33mMaxPooling2D\u001b[0m)    │ (\u001b[38;5;45mNone\u001b[0m, \u001b[38;5;34m14\u001b[0m, \u001b[38;5;34m14\u001b[0m, \u001b[38;5;34m16\u001b[0m)     │             \u001b[38;5;34m0\u001b[0m │\n",
              "├─────────────────────────────────┼────────────────────────┼───────────────┤\n",
              "│ conv2d_1 (\u001b[38;5;33mConv2D\u001b[0m)               │ (\u001b[38;5;45mNone\u001b[0m, \u001b[38;5;34m14\u001b[0m, \u001b[38;5;34m14\u001b[0m, \u001b[38;5;34m32\u001b[0m)     │         \u001b[38;5;34m4,640\u001b[0m │\n",
              "├─────────────────────────────────┼────────────────────────┼───────────────┤\n",
              "│ max_pooling2d_1 (\u001b[38;5;33mMaxPooling2D\u001b[0m)  │ (\u001b[38;5;45mNone\u001b[0m, \u001b[38;5;34m7\u001b[0m, \u001b[38;5;34m7\u001b[0m, \u001b[38;5;34m32\u001b[0m)       │             \u001b[38;5;34m0\u001b[0m │\n",
              "├─────────────────────────────────┼────────────────────────┼───────────────┤\n",
              "│ flatten (\u001b[38;5;33mFlatten\u001b[0m)               │ (\u001b[38;5;45mNone\u001b[0m, \u001b[38;5;34m1568\u001b[0m)           │             \u001b[38;5;34m0\u001b[0m │\n",
              "├─────────────────────────────────┼────────────────────────┼───────────────┤\n",
              "│ dense (\u001b[38;5;33mDense\u001b[0m)                   │ (\u001b[38;5;45mNone\u001b[0m, \u001b[38;5;34m128\u001b[0m)            │       \u001b[38;5;34m200,832\u001b[0m │\n",
              "├─────────────────────────────────┼────────────────────────┼───────────────┤\n",
              "│ dropout (\u001b[38;5;33mDropout\u001b[0m)               │ (\u001b[38;5;45mNone\u001b[0m, \u001b[38;5;34m128\u001b[0m)            │             \u001b[38;5;34m0\u001b[0m │\n",
              "├─────────────────────────────────┼────────────────────────┼───────────────┤\n",
              "│ dense_1 (\u001b[38;5;33mDense\u001b[0m)                 │ (\u001b[38;5;45mNone\u001b[0m, \u001b[38;5;34m10\u001b[0m)             │         \u001b[38;5;34m1,290\u001b[0m │\n",
              "└─────────────────────────────────┴────────────────────────┴───────────────┘\n"
            ]
          },
          "metadata": {},
          "output_type": "display_data"
        },
        {
          "data": {
            "text/html": [
              "<pre style=\"white-space:pre;overflow-x:auto;line-height:normal;font-family:Menlo,'DejaVu Sans Mono',consolas,'Courier New',monospace\"><span style=\"font-weight: bold\"> Total params: </span><span style=\"color: #00af00; text-decoration-color: #00af00\">206,922</span> (808.29 KB)\n",
              "</pre>\n"
            ],
            "text/plain": [
              "\u001b[1m Total params: \u001b[0m\u001b[38;5;34m206,922\u001b[0m (808.29 KB)\n"
            ]
          },
          "metadata": {},
          "output_type": "display_data"
        },
        {
          "data": {
            "text/html": [
              "<pre style=\"white-space:pre;overflow-x:auto;line-height:normal;font-family:Menlo,'DejaVu Sans Mono',consolas,'Courier New',monospace\"><span style=\"font-weight: bold\"> Trainable params: </span><span style=\"color: #00af00; text-decoration-color: #00af00\">206,922</span> (808.29 KB)\n",
              "</pre>\n"
            ],
            "text/plain": [
              "\u001b[1m Trainable params: \u001b[0m\u001b[38;5;34m206,922\u001b[0m (808.29 KB)\n"
            ]
          },
          "metadata": {},
          "output_type": "display_data"
        },
        {
          "data": {
            "text/html": [
              "<pre style=\"white-space:pre;overflow-x:auto;line-height:normal;font-family:Menlo,'DejaVu Sans Mono',consolas,'Courier New',monospace\"><span style=\"font-weight: bold\"> Non-trainable params: </span><span style=\"color: #00af00; text-decoration-color: #00af00\">0</span> (0.00 B)\n",
              "</pre>\n"
            ],
            "text/plain": [
              "\u001b[1m Non-trainable params: \u001b[0m\u001b[38;5;34m0\u001b[0m (0.00 B)\n"
            ]
          },
          "metadata": {},
          "output_type": "display_data"
        },
        {
          "name": "stdout",
          "output_type": "stream",
          "text": [
            "Params (baseline CNN): 206922\n"
          ]
        }
      ],
      "source": [
        "\n",
        "# SECTION 3 — Baseline CNN Builder\n",
        "\n",
        "def build_baseline_cnn():\n",
        "    model = models.Sequential([\n",
        "        layers.Input(shape=(28, 28, 1)),\n",
        "        layers.Conv2D(F1, (KERNEL_SIZE, KERNEL_SIZE), padding='same', activation='relu'),\n",
        "        layers.MaxPooling2D(pool_size=(POOL_SIZE, POOL_SIZE)),\n",
        "        layers.Conv2D(F2, (KERNEL_SIZE, KERNEL_SIZE), padding='same', activation='relu'),\n",
        "        layers.MaxPooling2D(pool_size=(POOL_SIZE, POOL_SIZE)),\n",
        "        layers.Flatten(),\n",
        "        layers.Dense(DENSE_UNITS, activation='relu'),\n",
        "        layers.Dropout(DROPOUT_DENSE),\n",
        "        layers.Dense(10, activation='softmax')\n",
        "    ])\n",
        "    return model\n",
        "\n",
        "tmp_model = build_baseline_cnn()\n",
        "tmp_model.summary()\n",
        "print('Params (baseline CNN):', tmp_model.count_params())\n"
      ]
    },
    {
      "cell_type": "code",
      "execution_count": null,
      "metadata": {},
      "outputs": [],
      "source": [
        "\n",
        "# SECTION 4 — Utilities: Train, Evaluate, Metrics\n",
        "\n",
        "def train_model(model, optimizer, epochs=EPOCHS, verbose=1):\n",
        "    model.compile(optimizer=optimizer, loss='sparse_categorical_crossentropy', metrics=['accuracy'])\n",
        "    t0 = time.time()\n",
        "    hist = model.fit(X_tr_cnn, y_tr_sp, batch_size=BATCH_SIZE, epochs=epochs,\n",
        "                     validation_data=(X_va_cnn, y_va_sp), verbose=verbose, shuffle=True)\n",
        "    t1 = time.time()\n",
        "    train_time = t1 - t0\n",
        "    return hist, train_time\n",
        "\n",
        "def evaluate_model(model, name='model'):\n",
        "    loss, acc = model.evaluate(X_te_cnn, y_te_sp, verbose=0)\n",
        "    y_prob = model.predict(X_te_cnn, verbose=0)\n",
        "    y_pred = np.argmax(y_prob, axis=1)\n",
        "    cm = confusion_matrix(y_te_sp, y_pred, labels=list(range(10)))\n",
        "    prec, rec, f1, _ = precision_recall_fscore_support(y_te_sp, y_pred, labels=list(range(10)), average=None, zero_division=0)\n",
        "    micro = precision_recall_fscore_support(y_te_sp, y_pred, average='micro', zero_division=0)[:3]\n",
        "    macro = precision_recall_fscore_support(y_te_sp, y_pred, average='macro', zero_division=0)[:3]\n",
        "    report = classification_report(y_te_sp, y_pred, digits=4)\n",
        "    print(f\"\\n{name} — Test Loss: {loss:.4f} | Test Acc: {acc:.4f}\")\n",
        "    print(report)\n",
        "    return {'loss': loss, 'acc': acc, 'cm': cm, 'prec':prec, 'rec':rec, 'f1':f1, 'micro':micro, 'macro':macro}\n",
        "\n",
        "def plot_history(hist_dict):\n",
        "    for key in hist_dict.keys():\n",
        "        plt.figure()\n",
        "        plt.plot(hist_dict[key].history['loss'], label=f'{OPT_CONFIGS[key][\"name\"]} - Train')\n",
        "        plt.plot(hist_dict[key].history['val_loss'], label=f'{OPT_CONFIGS[key][\"name\"]} - Val')\n",
        "        plt.xlabel('Epoch'); plt.ylabel('Loss')\n",
        "        plt.title(f'Training & Validation Loss — {OPT_CONFIGS[key][\"name\"]}')\n",
        "        plt.legend(); plt.tight_layout(); plt.show()\n",
        "\n",
        "    plt.figure()\n",
        "    for key in hist_dict.keys():\n",
        "        plt.plot(hist_dict[key].history['val_loss'], label=f'{OPT_CONFIGS[key][\"name\"]} - Val')\n",
        "    plt.xlabel('Epoch'); plt.ylabel('Validation Loss')\n",
        "    plt.title('Validation Loss Comparison — All Optimizers')\n",
        "    plt.legend(); plt.tight_layout(); plt.show()\n",
        "\n",
        "def show_cm(cm, title='Confusion Matrix'):\n",
        "    plt.figure(figsize=(6,5))\n",
        "    plt.imshow(cm, interpolation='nearest')\n",
        "    plt.title(title); plt.xlabel('Predicted'); plt.ylabel('True')\n",
        "    plt.colorbar()\n",
        "    ticks = np.arange(10)\n",
        "    plt.xticks(ticks, ticks); plt.yticks(ticks, ticks)\n",
        "    for i in range(cm.shape[0]):\n",
        "        for j in range(cm.shape[1]):\n",
        "            plt.text(j, i, str(cm[i, j]), ha='center', va='center')\n",
        "    plt.tight_layout(); plt.show()\n"
      ]
    },
    {
      "cell_type": "code",
      "execution_count": null,
      "metadata": {},
      "outputs": [],
      "source": [
        "\n",
        "# SECTION 5 — Baseline CNN: Optimizer Comparison (20 epochs)\n",
        "\n",
        "histories = {}\n",
        "results   = {}\n",
        "train_times = {}\n",
        "param_counts = {}\n",
        "\n",
        "for key in ['sgd','sgdm','adam']:\n",
        "    print(f\"\\n=== Training with {OPT_CONFIGS[key]['name']} ===\")\n",
        "    model = build_baseline_cnn()\n",
        "    param_counts[key] = model.count_params()\n",
        "    opt = OPT_CONFIGS[key]['opt']()\n",
        "    h, t = train_model(model, opt, epochs=EPOCHS, verbose=1)\n",
        "    histories[key] = h\n",
        "    train_times[key] = t\n",
        "    results[key] = evaluate_model(model, name=f'Baseline CNN ({OPT_CONFIGS[key][\"name\"]})')\n",
        "\n",
        "\n",
        "# Plot curves\n",
        "plot_history(histories)\n",
        "\n",
        "# Determine best by test accuracy\n",
        "best_key = max(results, key=lambda k: results[k]['acc'])\n",
        "print('Best optimizer for baseline CNN:', OPT_CONFIGS[best_key]['name'], 'Test Acc:', results[best_key]['acc'])\n",
        "show_cm(results[best_key]['cm'], title=f'Confusion Matrix — Baseline CNN ({OPT_CONFIGS[best_key][\"name\"]})')\n",
        "\n",
        "# Summaries\n",
        "print(\"\\n=== Baseline CNN — Summary ===\")\n",
        "for k in ['sgd','sgdm','adam']:\n",
        "    print(f\"{OPT_CONFIGS[k]['name']}: Test Acc={results[k]['acc']:.4f}, Train Time={train_times[k]:.1f}s, Params={param_counts[k]:,}\")\n"
      ]
    },
    {
      "cell_type": "code",
      "execution_count": null,
      "metadata": {},
      "outputs": [],
      "source": [
        "# =====================================================================\n",
        "# SECTION 6 — Transfer Learning: ResNet50 & VGG16 (ImageNet)\n",
        "# =====================================================================\n",
        "print(\"Preparing fine-tuning datasets...\")\n",
        "\n",
        "# ------------- STEP 1: Preprocessing Pipelines -----------------\n",
        "def preprocess_for_model(x, y, model='resnet'):\n",
        "    # Resize MNIST (28x28x1) -> (224x224x3)\n",
        "    x = tf.image.resize(x, (224, 224))\n",
        "    x = tf.image.grayscale_to_rgb(x)\n",
        "    if model == 'resnet':\n",
        "        x = resnet_preprocess(x)\n",
        "    elif model == 'vgg':\n",
        "        x = vgg_preprocess(x)\n",
        "    return x, y\n",
        "\n",
        "def make_dataset(x, y, model='resnet', training=True):\n",
        "    ds = tf.data.Dataset.from_tensor_slices((x, y))\n",
        "    if training:\n",
        "        ds = ds.shuffle(buffer_size=1024, seed=SEED)\n",
        "    ds = ds.map(lambda a,b: preprocess_for_model(a,b,model),\n",
        "                num_parallel_calls=tf.data.AUTOTUNE)\n",
        "    ds = ds.batch(BATCH_SIZE).prefetch(tf.data.AUTOTUNE)\n",
        "    return ds\n",
        "\n",
        "# Create streaming datasets (no big array allocation!)\n",
        "train_resnet_ds = make_dataset(X_tr_cnn, y_tr_sp, model='resnet')\n",
        "val_resnet_ds   = make_dataset(X_va_cnn, y_va_sp, model='resnet', training=False)\n",
        "test_resnet_ds  = make_dataset(X_te_cnn, y_te_sp, model='resnet', training=False)\n",
        "\n",
        "train_vgg_ds = make_dataset(X_tr_cnn, y_tr_sp, model='vgg')\n",
        "val_vgg_ds   = make_dataset(X_va_cnn, y_va_sp, model='vgg', training=False)\n",
        "test_vgg_ds  = make_dataset(X_te_cnn, y_te_sp, model='vgg', training=False)\n",
        "\n",
        "print(\"Datasets ready for ResNet50 and VGG16 fine-tuning!\")\n",
        "\n",
        "# ------------- STEP 2: Model Building Helpers -----------------\n",
        "def build_head(n_classes=10):\n",
        "    return models.Sequential([\n",
        "        layers.GlobalAveragePooling2D(),\n",
        "        layers.Dropout(0.3),\n",
        "        layers.Dense(n_classes, activation='softmax')\n",
        "    ])\n",
        "\n",
        "def fine_tune_model(base, lr=1e-4, epochs=EPOCHS,\n",
        "                    train_ds=None, val_ds=None, test_ds=None, name=''):\n",
        "    base.trainable = True\n",
        "    inputs = layers.Input(shape=(224,224,3))\n",
        "    x = base(inputs, training=True)\n",
        "    outputs = build_head(10)(x)\n",
        "    model = models.Model(inputs, outputs, name=name)\n",
        "    n_params = model.count_params()\n",
        "    print(f\"\\n{name} Summary:\")\n",
        "    model.summary()\n",
        "    print(f\"Total trainable params: {n_params:,}\")\n",
        "\n",
        "    opt = optimizers.Adam(learning_rate=lr)\n",
        "    model.compile(optimizer=opt, loss='sparse_categorical_crossentropy', metrics=['accuracy'])\n",
        "\n",
        "    print(f\"\\nTraining {name} ...\")\n",
        "    t0 = time.time()\n",
        "    hist = model.fit(train_ds, validation_data=val_ds, epochs=epochs, verbose=1)\n",
        "    t1 = time.time()\n",
        "    train_time = t1 - t0\n",
        "\n",
        "    # Evaluate on test set\n",
        "    loss, acc = model.evaluate(test_ds, verbose=0)\n",
        "    print(f\"\\n{name} — Test Loss: {loss:.4f} | Test Accuracy: {acc:.4f}\")\n",
        "\n",
        "    # Get predictions\n",
        "    y_true, y_pred = [], []\n",
        "    for Xb, yb in test_ds:\n",
        "        preds = model.predict(Xb, verbose=0)\n",
        "        y_true.extend(yb.numpy())\n",
        "        y_pred.extend(np.argmax(preds, axis=1))\n",
        "    y_true, y_pred = np.array(y_true), np.array(y_pred)\n",
        "\n",
        "    # Compute metrics\n",
        "    cm = confusion_matrix(y_true, y_pred, labels=list(range(10)))\n",
        "    prec, rec, f1, _ = precision_recall_fscore_support(\n",
        "        y_true, y_pred, labels=list(range(10)), average=None, zero_division=0)\n",
        "    micro = precision_recall_fscore_support(y_true, y_pred, average='micro', zero_division=0)[:3]\n",
        "    macro = precision_recall_fscore_support(y_true, y_pred, average='macro', zero_division=0)[:3]\n",
        "    report = classification_report(y_true, y_pred, digits=4)\n",
        "\n",
        "    print(f\"\\nClassification Report — {name}\")\n",
        "    print(report)\n",
        "\n",
        "    return {\n",
        "        'history': hist.history, 'acc': acc, 'loss': loss, 'cm': cm,\n",
        "        'micro': micro, 'macro': macro, 'report': report,\n",
        "        'train_time': train_time, 'params': n_params\n",
        "    }\n",
        "\n",
        "# ------------- STEP 3: Build Bases and Train -----------------\n",
        "print(\"\\nLoading pretrained bases (ImageNet)...\")\n",
        "resnet_base = ResNet50(include_top=False, weights='imagenet', input_shape=(224,224,3))\n",
        "vgg_base    = VGG16(include_top=False,  weights='imagenet', input_shape=(224,224,3))\n",
        "\n",
        "# Train both fine-tuned models\n",
        "resnet_result = fine_tune_model(\n",
        "    base=resnet_base, lr=1e-4, epochs=EPOCHS,\n",
        "    train_ds=train_resnet_ds, val_ds=val_resnet_ds, test_ds=test_resnet_ds,\n",
        "    name='ResNet50-FT'\n",
        ")\n",
        "\n",
        "vgg_result = fine_tune_model(\n",
        "    base=vgg_base, lr=1e-4, epochs=EPOCHS,\n",
        "    train_ds=train_vgg_ds, val_ds=val_vgg_ds, test_ds=test_vgg_ds,\n",
        "    name='VGG16-FT'\n",
        ")\n",
        "\n",
        "# ------------- STEP 4: Plot and Compare -----------------\n",
        "# Plot validation losses\n",
        "plt.figure()\n",
        "plt.plot(resnet_result['history']['val_loss'], label='ResNet50 - Val Loss')\n",
        "plt.plot(vgg_result['history']['val_loss'], label='VGG16 - Val Loss')\n",
        "plt.xlabel('Epoch'); plt.ylabel('Loss')\n",
        "plt.title('Validation Loss Comparison — Fine-tuned Models')\n",
        "plt.legend(); plt.tight_layout(); plt.show()\n",
        "\n",
        "# Plot validation accuracies\n",
        "plt.figure()\n",
        "plt.plot(resnet_result['history']['val_accuracy'], label='ResNet50 - Val Acc')\n",
        "plt.plot(vgg_result['history']['val_accuracy'], label='VGG16 - Val Acc')\n",
        "plt.xlabel('Epoch'); plt.ylabel('Accuracy')\n",
        "plt.title('Validation Accuracy Comparison — Fine-tuned Models')\n",
        "plt.legend(); plt.tight_layout(); plt.show()\n",
        "\n",
        "# Confusion matrix of best model\n",
        "ft_best = ('ResNet50', resnet_result) if resnet_result['acc'] >= vgg_result['acc'] else ('VGG16', vgg_result)\n",
        "show_cm(ft_best[1]['cm'], title=f'Confusion Matrix — Fine-tuned {ft_best[0]}')\n",
        "print(f\"\\nBest Fine-tuned Model: {ft_best[0]}\")\n",
        "print(f\"Micro Avg (Precision, Recall, F1): {ft_best[1]['micro']}\")\n",
        "print(f\"Macro Avg (Precision, Recall, F1): {ft_best[1]['macro']}\")\n"
      ]
    },
    {
      "cell_type": "markdown",
      "metadata": {},
      "source": [
        "## Comparison Summary (Training Time & Params)\n",
        "The cells below print concise summaries that you can paste into your report.\n"
      ]
    },
    {
      "cell_type": "code",
      "execution_count": null,
      "metadata": {},
      "outputs": [],
      "source": [
        "\n",
        "# SECTION 7 — Comparison Tables\n",
        "\n",
        "import pandas as pd\n",
        "\n",
        "# Baseline CNN table\n",
        "baseline_rows = []\n",
        "for k in ['sgd','sgdm','adam']:\n",
        "    baseline_rows.append({\n",
        "        'Model': f'Baseline CNN ({OPT_CONFIGS[k][\"name\"]})',\n",
        "        'Test Acc': results[k]['acc'],\n",
        "        'Train Time (s)': train_times[k],\n",
        "        'Params': param_counts[k]\n",
        "    })\n",
        "baseline_df = pd.DataFrame(baseline_rows).sort_values('Test Acc', ascending=False)\n",
        "print('=== Baseline CNN (Optimizers) ===')\n",
        "display(baseline_df)\n",
        "\n",
        "# Fine-tuned models table\n",
        "ft_rows = [\n",
        "    {'Model': 'ResNet50 (FT)', 'Test Acc': resnet_result['acc'], 'Train Time (s)': resnet_result['train_time'], 'Params': resnet_result['params']},\n",
        "    {'Model': 'VGG16 (FT)',   'Test Acc': vgg_result['acc'],     'Train Time (s)': vgg_result['train_time'],   'Params': vgg_result['params']},\n",
        "]\n",
        "ft_df = pd.DataFrame(ft_rows).sort_values('Test Acc', ascending=False)\n",
        "print('\\n=== Fine-tuned Models ===')\n",
        "display(ft_df)\n"
      ]
    },
    {
      "cell_type": "markdown",
      "metadata": {},
      "source": [
        "## Written Answers for Submission\n",
        "**1) Dataset & Split** — MNIST, concatenated then split **70/15/15** with fixed seed (reproducible).  \n",
        "**2) Architecture & Rationale** — Two `[Conv-ReLU-MaxPool]` blocks (3×3 kernels, padding same) extract local features efficiently; classifier `Flatten → Dense(128) → Dropout(0.3) → Dense(10)`; ReLU mitigates vanishing gradients; Dropout regularizes.  \n",
        "**3) Hyperparameters** — `F1=16, F2=32, kernel=3, pool=2, dense=128, dropout=0.3, batch=128, epochs=20` balance capacity and generalization for digits.  \n",
        "**4) Optimizers & LR** — Compared **SGD (0.1)**, **SGD+Momentum 0.9 (0.05)**, **Adam (1e-3)**. Adam adapts per-parameter LR; momentum accelerates convergence and damps oscillations.  \n",
        "**5) Curves & Early Behavior** — Loss curves show decreasing train/val loss; divergence indicates LR too high; plateau with small gap indicates underfitting.  \n",
        "**6) Metrics** — Use **accuracy** plus **confusion matrix** and **macro/micro precision/recall/F1** to assess per-class behavior and class balance.  \n",
        "**7) Results (Optimizers)** — Report final **val/test accuracy**, confusion matrices, and macro/micro metrics for the three optimizers. Momentum typically improves SGD; Adam often reaches strong accuracy quickly.  \n",
        "**8) Momentum Discussion** — Accumulates velocity in parameter space → faster movement along gentle slopes, reduced zig‑zagging across steep ravines. Usually smoother, more stable training.  \n",
        "**9) Fine-Tuning (Two ImageNet Models)** — **ResNet50** and **VGG16** adapted to 1‑channel by converting to 3‑channel & resizing to 224×224; `include_top=False` + **GAP + Dense(10)** head; trained with low LR (1e‑4).  \n",
        "**10) Comparison & Trade-offs** — **Custom CNN**: small, fast, explainable; great for deployment. **ResNet50/VGG16**: stronger priors from ImageNet, often higher or faster accuracy; heavier & slower; consider freezing early layers or pruning/quantization for deployment.  \n",
        "**11) Training Time & Params** — Tables provided; include them in your report for professional presentation.\n"
      ]
    }
  ],
  "metadata": {
    "kernelspec": {
      "display_name": "Python 3",
      "language": "python",
      "name": "python3"
    },
    "language_info": {
      "codemirror_mode": {
        "name": "ipython",
        "version": 3
      },
      "file_extension": ".py",
      "mimetype": "text/x-python",
      "name": "python",
      "nbconvert_exporter": "python",
      "pygments_lexer": "ipython3",
      "version": "3.11.0"
    }
  },
  "nbformat": 4,
  "nbformat_minor": 5
}
